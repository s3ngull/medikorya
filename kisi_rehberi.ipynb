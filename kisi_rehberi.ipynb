{
 "cells": [
  {
   "cell_type": "code",
   "execution_count": null,
   "id": "ea369588-43c1-4ba1-b7b7-99fe2e0e12cb",
   "metadata": {},
   "outputs": [
    {
     "name": "stdout",
     "output_type": "stream",
     "text": [
      "Kişi Rehberi\n",
      "    Ekle- 1\n",
      "    Sil- 2\n",
      "    Ara- 3\n",
      "    Listele- 4\n",
      "    Çıkış- 5\n"
     ]
    }
   ],
   "source": [
    "import os\n",
    "\n",
    "rehber={}\n",
    "\n",
    "def ekle():\n",
    "    isim = input(\"İsim: \")\n",
    "    if isim in rehber:\n",
    "        print(f\"{isim} zaten rehberde kayıtlı.\")\n",
    "    else:\n",
    "        numara = input(\"Numara: \")\n",
    "        rehber[isim] = numara\n",
    "        print(f\"{isim} eklendi.\")\n",
    "\n",
    "def sil():\n",
    "    isim=input(\"Silinecek ismi giriniz:\")\n",
    "    if isim in rehber:\n",
    "        rehber.pop(isim)\n",
    "        print(isim,\"silindi.\")\n",
    "    else:\n",
    "        print(\"Bu kişi bulunamadı.\")\n",
    "\n",
    "def ara():\n",
    "    isim=input(\"Aradığınız ismi giriniz: \")\n",
    "    if isim in rehber:\n",
    "        print(f\"{isim} kişisinin telefon numarası: {rehber[isim]}\")\n",
    "    else:\n",
    "        print(\"Kullanıcı bulunamadı.\")\n",
    "\n",
    "def listele():\n",
    "    print(\"Rehberiniz aşağıda listelenmiştir.\")\n",
    "    for x in rehber:\n",
    "        print(x,rehber.get(x))\n",
    "    print(len(rehber), \"kişi listelendi.\")\n",
    "\n",
    "def temizle():\n",
    "    # Windows için ekranı temizle\n",
    "    if os.name == 'nt':\n",
    "        os.system('cls')\n",
    "    else:\n",
    "        os.system('clear')\n",
    "\n",
    "while True:\n",
    "    print(\"\"\"Kişi Rehberi\n",
    "    Ekle- 1\n",
    "    Sil- 2\n",
    "    Ara- 3\n",
    "    Listele- 4\n",
    "    Çıkış- 5\"\"\")\n",
    "    temizle()\n",
    "    sec=input(\"Yapmak istediğiniz işlemi giriniz:\")\n",
    "    if sec==\"1\":\n",
    "        ekle()\n",
    "    elif sec==\"2\":\n",
    "        sil()\n",
    "    elif sec==\"3\":\n",
    "        ara()\n",
    "    elif sec==\"4\":\n",
    "        listele()\n",
    "    elif sec==\"5\":\n",
    "        print(\"Çıkış yapıldı.\")\n",
    "        break\n",
    "    else:\n",
    "        print(\"Geçersiz seçim, tekrar deneyiniz.\")"
   ]
  },
  {
   "cell_type": "code",
   "execution_count": null,
   "id": "d07e6733-9973-46ab-aa91-2d1554dfaa84",
   "metadata": {},
   "outputs": [],
   "source": []
  }
 ],
 "metadata": {
  "kernelspec": {
   "display_name": "Python 3 (ipykernel)",
   "language": "python",
   "name": "python3"
  },
  "language_info": {
   "codemirror_mode": {
    "name": "ipython",
    "version": 3
   },
   "file_extension": ".py",
   "mimetype": "text/x-python",
   "name": "python",
   "nbconvert_exporter": "python",
   "pygments_lexer": "ipython3",
   "version": "3.12.4"
  }
 },
 "nbformat": 4,
 "nbformat_minor": 5
}
